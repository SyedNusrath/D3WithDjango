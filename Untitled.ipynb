{
 "cells": [
  {
   "cell_type": "code",
   "execution_count": 10,
   "metadata": {},
   "outputs": [],
   "source": [
    "import pandas as pd\n",
    "import numpy as np\n",
    "import ast"
   ]
  },
  {
   "cell_type": "code",
   "execution_count": 18,
   "metadata": {},
   "outputs": [],
   "source": [
    "    file1 = pd.read_excel(r'static/file1.xlsx')\n",
    "\n",
    "    # chart 1\n",
    "    ObjectAndAccounts = file1.iloc[:2,:2].to_json(orient='records')\n",
    "    # chart 2\n",
    "    ls = ast.literal_eval(file1.iloc[7:10,:2].to_json(orient='records'))\n",
    "    ls.append({'name': '# Sales', 'value': 3540})\n",
    "    LicenseAndSales = str(ls)\n",
    "\n",
    "    file2 = pd.read_excel(r'static/files2.xlsx')\n",
    "    # chart 3\n",
    "    file2.index = pd.RangeIndex(start=1, stop=len(file2.index) +1, step=1)\n",
    "    df_new = file2[file2.index % 3 != 0]\n",
    "    newdf = file2[file2.index % 3 == 0].reset_index(drop=True)\n",
    "    newdf = pd.DataFrame(np.repeat(newdf.values,2,axis=0))\n",
    "    df_per = pd.concat([df_new.reset_index(drop=True),newdf.reset_index(drop=True)],axis=1,ignore_index=False)\n",
    "    df_per.columns=['name','value','domain','percentages']\n",
    "\n",
    "    # chart 4\n",
    "    passRetrived = ast.literal_eval(file1.iloc[6:7,:2].to_json(orient='records'))\n",
    "    passRetrived.append({'name': 'Unique Accounts retrieved', 'value': 1912})\n",
    "    passRetrived.append(ast.literal_eval(file1.iloc[2:3,3:].rename(columns={\"Unnamed: 3\": \"name\", \"Unnamed: 4\": \"value\"}).to_json(orient='records'))[0])\n",
    "    passRetrivedAllvalues = str(passRetrived)\n",
    "    \n",
    "    # chart 5\n",
    "    passRetrivedTotal = file1.iloc[3:4,3:].rename(columns={\"Unnamed: 3\": \"name\", \"Unnamed: 4\": \"value\"}).to_json(orient='records')\n",
    "\n",
    "    # Chart 6\n",
    "    RequestTimeAveragedf = pd.read_excel(r'static/RequestTimeAverage.xlsx')\n",
    "    RequestTimeAverage = RequestTimeAveragedf.iloc[:3,:2].to_json(orient='records')\n",
    "    # Chart 7\n",
    "    RequestTicketAverage = RequestTimeAveragedf.iloc[6:8,:2].to_json(orient='records')"
   ]
  },
  {
   "cell_type": "code",
   "execution_count": 19,
   "metadata": {},
   "outputs": [
    {
     "name": "stdout",
     "output_type": "stream",
     "text": [
      "[{\"name\":\"Total Objects\",\"value\":130399.0},{\"name\":\"Failed Objects\",\"value\":61937.0}] [{'name': 'License Count X of 2200', 'value': 2161.0}, {'name': 'Percentage of License in Use', 'value': 0.9823}, {'name': 'Number of people whom have access to password vault ', 'value': 4060.0}, {'name': '# Sales', 'value': 3540}] [{\"name\":\"Domain Admin Total\",\"value\":35.0,\"domain\":\"Domain Admin Percentage\",\"percentages\":1.0},{\"name\":\"Domain Admin Vaulted\",\"value\":35.0,\"domain\":\"Domain Admin Percentage\",\"percentages\":1.0},{\"name\":\"Server Admin Total\",\"value\":1223.0,\"domain\":\"Server Admin Percentage\",\"percentages\":0.35},{\"name\":\"Server Admin Vaulted\",\"value\":428.0,\"domain\":\"Server Admin Percentage\",\"percentages\":0.35},{\"name\":\"Workstation Admin Total\",\"value\":386.0,\"domain\":\"Workstation Percentage\",\"percentages\":0.2435},{\"name\":\"Workstation Admin Vaulted\",\"value\":94.0,\"domain\":\"Workstation Percentage\",\"percentages\":0.2435},{\"name\":\"All Admin Total\",\"value\":1644.0,\"domain\":\"All  Admin Percentage\",\"percentages\":0.3388},{\"name\":\"All  Admin Vaulted\",\"value\":557.0,\"domain\":\"All  Admin Percentage\",\"percentages\":0.3388}] [{\"name\":\"Accounts:\",\"value\":130315.0},{\"name\":\"Sales:\",\"value\":3709.0}] [{\"name\":\"Average Time Open(Hrs) - Tasks\",\"value\":68.85},{\"name\":\"Average Time Open(Hrs) -  Incidents\",\"value\":45.26},{\"name\":\"Average Time Open(Hrs) - ALL\",\"value\":66.04}] [{'name': 'Unique Users who pulled passwords in the last 7 Days ', 'value': 368.0}, {'name': 'Unique Accounts retrieved', 'value': 1912}, {'name': 'All Active user in the last 7 days ', 'value': 978.0}] [{\"name\":\"Total # of pwds pulled in last 7 days\",\"value\":260884.0}]\n"
     ]
    }
   ],
   "source": [
    "print(ObjectAndAccounts,LicenseAndSales,df_per.to_json(orient='records'),\\\n",
    "           RequestTicketAverage,RequestTimeAverage,passRetrivedAllvalues,passRetrivedTotal)"
   ]
  },
  {
   "cell_type": "code",
   "execution_count": 21,
   "metadata": {},
   "outputs": [],
   "source": []
  },
  {
   "cell_type": "code",
   "execution_count": 25,
   "metadata": {},
   "outputs": [
    {
     "data": {
      "text/plain": [
       "'[{\"name\":\"Accounts:\",\"value\":130315.0},{\"name\":\"Sales:\",\"value\":3709.0}]'"
      ]
     },
     "execution_count": 25,
     "metadata": {},
     "output_type": "execute_result"
    }
   ],
   "source": [
    "RequestTicketAverage"
   ]
  },
  {
   "cell_type": "code",
   "execution_count": 16,
   "metadata": {},
   "outputs": [],
   "source": [
    "ObjectAndAccounts = [{\"name\":\"Total Objects\",\"value\":130399.0},{\"name\":\"Failed Objects\",\"value\":61937.0}]\n",
    "LicenseAndSales = [{'name': 'License Count X of 2200', 'value': 2161.0}, {'name': 'Percentage of License in Use', 'value': 0.9823}, {'name': 'Number of people whom have access to password vault ', 'value': 4060.0}, {'name': '# Sales', 'value': 3540}] \n",
    "df_per = [{\"name\":\"Domain Admin Total\",\"value\":35.0,\"domain\":\"Domain Admin Percentage\",\"percentages\":1.0},{\"name\":\"Domain Admin Vaulted\",\"value\":35.0,\"domain\":\"Domain Admin Percentage\",\"percentages\":1.0},{\"name\":\"Server Admin Total\",\"value\":1223.0,\"domain\":\"Server Admin Percentage\",\"percentages\":0.35},{\"name\":\"Server Admin Vaulted\",\"value\":428.0,\"domain\":\"Server Admin Percentage\",\"percentages\":0.35},{\"name\":\"Workstation Admin Total\",\"value\":386.0,\"domain\":\"Workstation Percentage\",\"percentages\":0.2435},{\"name\":\"Workstation Admin Vaulted\",\"value\":94.0,\"domain\":\"Workstation Percentage\",\"percentages\":0.2435},{\"name\":\"All Admin Total\",\"value\":1644.0,\"domain\":\"All  Admin Percentage\",\"percentages\":0.3388},{\"name\":\"All  Admin Vaulted\",\"value\":557.0,\"domain\":\"All  Admin Percentage\",\"percentages\":0.3388}] \n",
    "RequestTicketAverage = [{\"name\":\"Accounts:\",\"value\":130315.0},{\"name\":\"Sales:\",\"value\":3709.0}] \n",
    "RequestTimeAverage = [{\"name\":\"Average Time Open(Hrs) - Tasks\",\"value\":68.85},{\"name\":\"Average Time Open(Hrs) -  Incidents\",\"value\":45.26},{\"name\":\"Average Time Open(Hrs) - ALL\",\"value\":66.04}] \n",
    "passRetrivedAllvalues  = [{'name': 'Unique Users who pulled passwords in the last 7 Days ', 'value': 368.0}, {'name': 'Unique Accounts retrieved', 'value': 1912}, {'name': 'All Active user in the last 7 days ', 'value': 978.0}]\n",
    "passRetrivedTotal = [{\"name\":\"Total # of pwds pulled in last 7 days\",\"value\":260884.0}]"
   ]
  },
  {
   "cell_type": "code",
   "execution_count": 17,
   "metadata": {},
   "outputs": [
    {
     "data": {
      "text/plain": [
       "'[{\"name\":\"Domain Admin Total\",\"value\":35.0,\"domain\":\"Domain Admin Percentage\",\"percentages\":1.0},{\"name\":\"Domain Admin Vaulted\",\"value\":35.0,\"domain\":\"Domain Admin Percentage\",\"percentages\":1.0},{\"name\":\"Server Admin Total\",\"value\":1223.0,\"domain\":\"Server Admin Percentage\",\"percentages\":0.35},{\"name\":\"Server Admin Vaulted\",\"value\":428.0,\"domain\":\"Server Admin Percentage\",\"percentages\":0.35},{\"name\":\"Workstation Admin Total\",\"value\":386.0,\"domain\":\"Workstation Percentage\",\"percentages\":0.2435},{\"name\":\"Workstation Admin Vaulted\",\"value\":94.0,\"domain\":\"Workstation Percentage\",\"percentages\":0.2435},{\"name\":\"All Admin Total\",\"value\":1644.0,\"domain\":\"All  Admin Percentage\",\"percentages\":0.3388},{\"name\":\"All  Admin Vaulted\",\"value\":557.0,\"domain\":\"All  Admin Percentage\",\"percentages\":0.3388}]'"
      ]
     },
     "execution_count": 17,
     "metadata": {},
     "output_type": "execute_result"
    }
   ],
   "source": [
    "df_per"
   ]
  }
 ],
 "metadata": {
  "kernelspec": {
   "display_name": "Python 3",
   "language": "python",
   "name": "python3"
  },
  "language_info": {
   "codemirror_mode": {
    "name": "ipython",
    "version": 3
   },
   "file_extension": ".py",
   "mimetype": "text/x-python",
   "name": "python",
   "nbconvert_exporter": "python",
   "pygments_lexer": "ipython3",
   "version": "3.8.3"
  }
 },
 "nbformat": 4,
 "nbformat_minor": 4
}
